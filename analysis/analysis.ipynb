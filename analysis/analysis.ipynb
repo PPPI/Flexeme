{
 "cells": [
  {
   "cell_type": "code",
   "execution_count": 17,
   "metadata": {
    "collapsed": true
   },
   "outputs": [
    {
     "name": "stderr",
     "output_type": "stream",
     "text": [
      "/var/folders/95/72xs2mfn5tv8sgfyd51fcnnr0000gn/T/ipykernel_39646/3184415982.py:14: FutureWarning: The frame.append method is deprecated and will be removed from pandas in a future version. Use pandas.concat instead.\n",
      "  df = df.append(temp_df, sort=False)\n"
     ]
    },
    {
     "data": {
      "text/plain": "                                            Datapoint Concepts  Accuracy  \\\n0   b2f1757bf9ec1632a940b9a2e65a1a022ba54af8_b2bba...        2  0.486838   \n1   7f89bd4850b7a5b0dd2a10d2f2daa62805de5bca_7e512...        1  1.000000   \n2   7f89bd4850b7a5b0dd2a10d2f2daa62805de5bca_e4b58...        2  0.400208   \n3   7f89bd4850b7a5b0dd2a10d2f2daa62805de5bca_0ac77...        3  0.465347   \n4   e4b58afe49b8232e0c7a1e051a6cb8580b14d6b6_0ac77...        2  0.458333   \n5   e4b58afe49b8232e0c7a1e051a6cb8580b14d6b6_7ee33...        3  0.442308   \n7   7ee33f6ef446fcdd4b49af6cab6890afdbbcd5cd_6cf70...        2  0.512195   \n8   7ee33f6ef446fcdd4b49af6cab6890afdbbcd5cd_2a645...        3  0.462500   \n9   0268232db1a6663d12f82ae2f5f83e921e53358e_3cea4...        2  0.325926   \n10  f1f885f17f9039702cc258fb7bc7688755fc0229_20879...        1  0.605697   \n11  e53a0c9d92b174ba8684867433f015cdbdbdf371_b8573...        2  0.476190   \n12  e53a0c9d92b174ba8684867433f015cdbdbdf371_3f900...        3  0.359054   \n13  0603aef594fa60126c2d45f2ab164eee39f7b44c_006fc...        2  0.569767   \n14  32f3ff3235ebc6e94b029cef26ae6dea97982cc5_def3a...        2  0.515152   \n15  32f3ff3235ebc6e94b029cef26ae6dea97982cc5_5f377...        3  0.462810   \n16  1506b78c6b74101f7d7e5f6dc370e271a06e0b54_fd1c7...        2  0.417826   \n17  a981e54a1b318bf0fbb96f7db842904da771ec31_f142a...        2  0.469965   \n18  93f0804ec277686fb32f7ac46f10a2d6e3d7dc7d_3f27a...        1  0.581395   \n19  93f0804ec277686fb32f7ac46f10a2d6e3d7dc7d_b0ce2...        2  0.307487   \n20  93f0804ec277686fb32f7ac46f10a2d6e3d7dc7d_818d2...        3  0.373171   \n21  b0ce240871d3c358c779d79108d06f4efff4eae4_818d2...        2  0.367003   \n22  b0ce240871d3c358c779d79108d06f4efff4eae4_45c66...        3  0.669782   \n23  9800f287d158e2dc40594698ddce8d486d292873_cb0c6...        2  0.458333   \n24  b6b8ac722cc747cefb69f68733493901cf2e4ac7_5dbb0...        1  0.405405   \n25  3ce16bc3e7f37bf4031a64696bd27ec943547e0e_a4095...        2  0.536585   \n26  e99dc1595126b5a406c0ddafb3bf3b7547db5e47_7c246...        2  0.559322   \n27  e99dc1595126b5a406c0ddafb3bf3b7547db5e47_9e304...        3  0.428571   \n28  e99dc1595126b5a406c0ddafb3bf3b7547db5e47_bea03...        3  0.428571   \n29  9e304b8d2dcee861179311b34a6727b9a02e1683_2512b...        1  1.000000   \n30  9e304b8d2dcee861179311b34a6727b9a02e1683_300f4...        2  0.562500   \n31  2512b2cbfe065a5f278fc96d463d800f1bf0a642_300f4...        2  0.440000   \n32  2512b2cbfe065a5f278fc96d463d800f1bf0a642_20871...        3  0.449153   \n34  20871926bc62c5f4be782ce6b9864f8cb2f22633_3ed4c...        2  0.518987   \n36  302553ddc609cbc067cc9cb47512aa1e953b6c4b_035c7...        2  0.364407   \n37  343b1206ff2a24dc1285fb971a5fb2826ffdaea6_d1952...        2  0.373702   \n38  343b1206ff2a24dc1285fb971a5fb2826ffdaea6_d48fa...        2  0.370242   \n39  343b1206ff2a24dc1285fb971a5fb2826ffdaea6_73721...        2  0.356401   \n40  d48fae2ad7cf74134a0c788d91b6668197655a89_d25f7...        2  0.384615   \n41  b4255e6d071dc8d48bfc51037cecb29097b9a49d_e3165...        2  0.400211   \n42  b4255e6d071dc8d48bfc51037cecb29097b9a49d_f01f5...        3  0.407075   \n\n     Overlap           Time Project  Method  \n0   0.463512   11992.026108    Lang  Heddle  \n1        NaN       0.023416    Lang  Heddle  \n2   0.360222    1121.999110    Lang  Heddle  \n3   0.433896    1260.897975    Lang  Heddle  \n4   0.277778       2.921547    Lang  Heddle  \n5   0.256410       3.383417    Lang  Heddle  \n7   0.024390       2.122058    Lang  Heddle  \n8   0.328125       8.143497    Lang  Heddle  \n9   0.213580      35.097200    Lang  Heddle  \n10  0.526837     554.151161    Lang  Heddle  \n11  0.301587       6.190210    Lang  Heddle  \n12  0.294960    3095.456176    Lang  Heddle  \n13  0.354651       8.852383    Lang  Heddle  \n14  0.272727       1.193578    Lang  Heddle  \n15  0.403122    4398.305563    Lang  Heddle  \n16  0.369311    2971.882548    Lang  Heddle  \n17  0.403710     102.640859    Lang  Heddle  \n18  0.476744       8.780415    Lang  Heddle  \n19  0.230541     232.014569    Lang  Heddle  \n20  0.303523     277.075683    Lang  Heddle  \n21  0.261504     146.915157    Lang  Heddle  \n22  0.587227     149.150950    Lang  Heddle  \n23  0.380952      48.374516    Lang  Heddle  \n24  0.256757      24.814618    Lang  Heddle  \n25  0.382114      32.458233    Lang  Heddle  \n26  0.412429       3.888635    Lang  Heddle  \n27  0.238095       5.462543    Lang  Heddle  \n28  0.238095       5.451615    Lang  Heddle  \n29       NaN       0.561996    Lang  Heddle  \n30  0.453125       5.873939    Lang  Heddle  \n31  0.328000      12.535620    Lang  Heddle  \n32  0.338983      17.565264    Lang  Heddle  \n34  0.398734     110.212789    Lang  Heddle  \n36  0.258475      16.266018    Lang  Heddle  \n37  0.295415     161.785739    Lang  Heddle  \n38  0.291522     157.292857    Lang  Heddle  \n39  0.275952     157.505312    Lang  Heddle  \n40  0.282051      14.844744    Lang  Heddle  \n41  0.377143  113666.606414    Lang  Heddle  \n42  0.384270  113789.900767    Lang  Heddle  ",
      "text/html": "<div>\n<style scoped>\n    .dataframe tbody tr th:only-of-type {\n        vertical-align: middle;\n    }\n\n    .dataframe tbody tr th {\n        vertical-align: top;\n    }\n\n    .dataframe thead th {\n        text-align: right;\n    }\n</style>\n<table border=\"1\" class=\"dataframe\">\n  <thead>\n    <tr style=\"text-align: right;\">\n      <th></th>\n      <th>Datapoint</th>\n      <th>Concepts</th>\n      <th>Accuracy</th>\n      <th>Overlap</th>\n      <th>Time</th>\n      <th>Project</th>\n      <th>Method</th>\n    </tr>\n  </thead>\n  <tbody>\n    <tr>\n      <th>0</th>\n      <td>b2f1757bf9ec1632a940b9a2e65a1a022ba54af8_b2bba...</td>\n      <td>2</td>\n      <td>0.486838</td>\n      <td>0.463512</td>\n      <td>11992.026108</td>\n      <td>Lang</td>\n      <td>Heddle</td>\n    </tr>\n    <tr>\n      <th>1</th>\n      <td>7f89bd4850b7a5b0dd2a10d2f2daa62805de5bca_7e512...</td>\n      <td>1</td>\n      <td>1.000000</td>\n      <td>NaN</td>\n      <td>0.023416</td>\n      <td>Lang</td>\n      <td>Heddle</td>\n    </tr>\n    <tr>\n      <th>2</th>\n      <td>7f89bd4850b7a5b0dd2a10d2f2daa62805de5bca_e4b58...</td>\n      <td>2</td>\n      <td>0.400208</td>\n      <td>0.360222</td>\n      <td>1121.999110</td>\n      <td>Lang</td>\n      <td>Heddle</td>\n    </tr>\n    <tr>\n      <th>3</th>\n      <td>7f89bd4850b7a5b0dd2a10d2f2daa62805de5bca_0ac77...</td>\n      <td>3</td>\n      <td>0.465347</td>\n      <td>0.433896</td>\n      <td>1260.897975</td>\n      <td>Lang</td>\n      <td>Heddle</td>\n    </tr>\n    <tr>\n      <th>4</th>\n      <td>e4b58afe49b8232e0c7a1e051a6cb8580b14d6b6_0ac77...</td>\n      <td>2</td>\n      <td>0.458333</td>\n      <td>0.277778</td>\n      <td>2.921547</td>\n      <td>Lang</td>\n      <td>Heddle</td>\n    </tr>\n    <tr>\n      <th>5</th>\n      <td>e4b58afe49b8232e0c7a1e051a6cb8580b14d6b6_7ee33...</td>\n      <td>3</td>\n      <td>0.442308</td>\n      <td>0.256410</td>\n      <td>3.383417</td>\n      <td>Lang</td>\n      <td>Heddle</td>\n    </tr>\n    <tr>\n      <th>7</th>\n      <td>7ee33f6ef446fcdd4b49af6cab6890afdbbcd5cd_6cf70...</td>\n      <td>2</td>\n      <td>0.512195</td>\n      <td>0.024390</td>\n      <td>2.122058</td>\n      <td>Lang</td>\n      <td>Heddle</td>\n    </tr>\n    <tr>\n      <th>8</th>\n      <td>7ee33f6ef446fcdd4b49af6cab6890afdbbcd5cd_2a645...</td>\n      <td>3</td>\n      <td>0.462500</td>\n      <td>0.328125</td>\n      <td>8.143497</td>\n      <td>Lang</td>\n      <td>Heddle</td>\n    </tr>\n    <tr>\n      <th>9</th>\n      <td>0268232db1a6663d12f82ae2f5f83e921e53358e_3cea4...</td>\n      <td>2</td>\n      <td>0.325926</td>\n      <td>0.213580</td>\n      <td>35.097200</td>\n      <td>Lang</td>\n      <td>Heddle</td>\n    </tr>\n    <tr>\n      <th>10</th>\n      <td>f1f885f17f9039702cc258fb7bc7688755fc0229_20879...</td>\n      <td>1</td>\n      <td>0.605697</td>\n      <td>0.526837</td>\n      <td>554.151161</td>\n      <td>Lang</td>\n      <td>Heddle</td>\n    </tr>\n    <tr>\n      <th>11</th>\n      <td>e53a0c9d92b174ba8684867433f015cdbdbdf371_b8573...</td>\n      <td>2</td>\n      <td>0.476190</td>\n      <td>0.301587</td>\n      <td>6.190210</td>\n      <td>Lang</td>\n      <td>Heddle</td>\n    </tr>\n    <tr>\n      <th>12</th>\n      <td>e53a0c9d92b174ba8684867433f015cdbdbdf371_3f900...</td>\n      <td>3</td>\n      <td>0.359054</td>\n      <td>0.294960</td>\n      <td>3095.456176</td>\n      <td>Lang</td>\n      <td>Heddle</td>\n    </tr>\n    <tr>\n      <th>13</th>\n      <td>0603aef594fa60126c2d45f2ab164eee39f7b44c_006fc...</td>\n      <td>2</td>\n      <td>0.569767</td>\n      <td>0.354651</td>\n      <td>8.852383</td>\n      <td>Lang</td>\n      <td>Heddle</td>\n    </tr>\n    <tr>\n      <th>14</th>\n      <td>32f3ff3235ebc6e94b029cef26ae6dea97982cc5_def3a...</td>\n      <td>2</td>\n      <td>0.515152</td>\n      <td>0.272727</td>\n      <td>1.193578</td>\n      <td>Lang</td>\n      <td>Heddle</td>\n    </tr>\n    <tr>\n      <th>15</th>\n      <td>32f3ff3235ebc6e94b029cef26ae6dea97982cc5_5f377...</td>\n      <td>3</td>\n      <td>0.462810</td>\n      <td>0.403122</td>\n      <td>4398.305563</td>\n      <td>Lang</td>\n      <td>Heddle</td>\n    </tr>\n    <tr>\n      <th>16</th>\n      <td>1506b78c6b74101f7d7e5f6dc370e271a06e0b54_fd1c7...</td>\n      <td>2</td>\n      <td>0.417826</td>\n      <td>0.369311</td>\n      <td>2971.882548</td>\n      <td>Lang</td>\n      <td>Heddle</td>\n    </tr>\n    <tr>\n      <th>17</th>\n      <td>a981e54a1b318bf0fbb96f7db842904da771ec31_f142a...</td>\n      <td>2</td>\n      <td>0.469965</td>\n      <td>0.403710</td>\n      <td>102.640859</td>\n      <td>Lang</td>\n      <td>Heddle</td>\n    </tr>\n    <tr>\n      <th>18</th>\n      <td>93f0804ec277686fb32f7ac46f10a2d6e3d7dc7d_3f27a...</td>\n      <td>1</td>\n      <td>0.581395</td>\n      <td>0.476744</td>\n      <td>8.780415</td>\n      <td>Lang</td>\n      <td>Heddle</td>\n    </tr>\n    <tr>\n      <th>19</th>\n      <td>93f0804ec277686fb32f7ac46f10a2d6e3d7dc7d_b0ce2...</td>\n      <td>2</td>\n      <td>0.307487</td>\n      <td>0.230541</td>\n      <td>232.014569</td>\n      <td>Lang</td>\n      <td>Heddle</td>\n    </tr>\n    <tr>\n      <th>20</th>\n      <td>93f0804ec277686fb32f7ac46f10a2d6e3d7dc7d_818d2...</td>\n      <td>3</td>\n      <td>0.373171</td>\n      <td>0.303523</td>\n      <td>277.075683</td>\n      <td>Lang</td>\n      <td>Heddle</td>\n    </tr>\n    <tr>\n      <th>21</th>\n      <td>b0ce240871d3c358c779d79108d06f4efff4eae4_818d2...</td>\n      <td>2</td>\n      <td>0.367003</td>\n      <td>0.261504</td>\n      <td>146.915157</td>\n      <td>Lang</td>\n      <td>Heddle</td>\n    </tr>\n    <tr>\n      <th>22</th>\n      <td>b0ce240871d3c358c779d79108d06f4efff4eae4_45c66...</td>\n      <td>3</td>\n      <td>0.669782</td>\n      <td>0.587227</td>\n      <td>149.150950</td>\n      <td>Lang</td>\n      <td>Heddle</td>\n    </tr>\n    <tr>\n      <th>23</th>\n      <td>9800f287d158e2dc40594698ddce8d486d292873_cb0c6...</td>\n      <td>2</td>\n      <td>0.458333</td>\n      <td>0.380952</td>\n      <td>48.374516</td>\n      <td>Lang</td>\n      <td>Heddle</td>\n    </tr>\n    <tr>\n      <th>24</th>\n      <td>b6b8ac722cc747cefb69f68733493901cf2e4ac7_5dbb0...</td>\n      <td>1</td>\n      <td>0.405405</td>\n      <td>0.256757</td>\n      <td>24.814618</td>\n      <td>Lang</td>\n      <td>Heddle</td>\n    </tr>\n    <tr>\n      <th>25</th>\n      <td>3ce16bc3e7f37bf4031a64696bd27ec943547e0e_a4095...</td>\n      <td>2</td>\n      <td>0.536585</td>\n      <td>0.382114</td>\n      <td>32.458233</td>\n      <td>Lang</td>\n      <td>Heddle</td>\n    </tr>\n    <tr>\n      <th>26</th>\n      <td>e99dc1595126b5a406c0ddafb3bf3b7547db5e47_7c246...</td>\n      <td>2</td>\n      <td>0.559322</td>\n      <td>0.412429</td>\n      <td>3.888635</td>\n      <td>Lang</td>\n      <td>Heddle</td>\n    </tr>\n    <tr>\n      <th>27</th>\n      <td>e99dc1595126b5a406c0ddafb3bf3b7547db5e47_9e304...</td>\n      <td>3</td>\n      <td>0.428571</td>\n      <td>0.238095</td>\n      <td>5.462543</td>\n      <td>Lang</td>\n      <td>Heddle</td>\n    </tr>\n    <tr>\n      <th>28</th>\n      <td>e99dc1595126b5a406c0ddafb3bf3b7547db5e47_bea03...</td>\n      <td>3</td>\n      <td>0.428571</td>\n      <td>0.238095</td>\n      <td>5.451615</td>\n      <td>Lang</td>\n      <td>Heddle</td>\n    </tr>\n    <tr>\n      <th>29</th>\n      <td>9e304b8d2dcee861179311b34a6727b9a02e1683_2512b...</td>\n      <td>1</td>\n      <td>1.000000</td>\n      <td>NaN</td>\n      <td>0.561996</td>\n      <td>Lang</td>\n      <td>Heddle</td>\n    </tr>\n    <tr>\n      <th>30</th>\n      <td>9e304b8d2dcee861179311b34a6727b9a02e1683_300f4...</td>\n      <td>2</td>\n      <td>0.562500</td>\n      <td>0.453125</td>\n      <td>5.873939</td>\n      <td>Lang</td>\n      <td>Heddle</td>\n    </tr>\n    <tr>\n      <th>31</th>\n      <td>2512b2cbfe065a5f278fc96d463d800f1bf0a642_300f4...</td>\n      <td>2</td>\n      <td>0.440000</td>\n      <td>0.328000</td>\n      <td>12.535620</td>\n      <td>Lang</td>\n      <td>Heddle</td>\n    </tr>\n    <tr>\n      <th>32</th>\n      <td>2512b2cbfe065a5f278fc96d463d800f1bf0a642_20871...</td>\n      <td>3</td>\n      <td>0.449153</td>\n      <td>0.338983</td>\n      <td>17.565264</td>\n      <td>Lang</td>\n      <td>Heddle</td>\n    </tr>\n    <tr>\n      <th>34</th>\n      <td>20871926bc62c5f4be782ce6b9864f8cb2f22633_3ed4c...</td>\n      <td>2</td>\n      <td>0.518987</td>\n      <td>0.398734</td>\n      <td>110.212789</td>\n      <td>Lang</td>\n      <td>Heddle</td>\n    </tr>\n    <tr>\n      <th>36</th>\n      <td>302553ddc609cbc067cc9cb47512aa1e953b6c4b_035c7...</td>\n      <td>2</td>\n      <td>0.364407</td>\n      <td>0.258475</td>\n      <td>16.266018</td>\n      <td>Lang</td>\n      <td>Heddle</td>\n    </tr>\n    <tr>\n      <th>37</th>\n      <td>343b1206ff2a24dc1285fb971a5fb2826ffdaea6_d1952...</td>\n      <td>2</td>\n      <td>0.373702</td>\n      <td>0.295415</td>\n      <td>161.785739</td>\n      <td>Lang</td>\n      <td>Heddle</td>\n    </tr>\n    <tr>\n      <th>38</th>\n      <td>343b1206ff2a24dc1285fb971a5fb2826ffdaea6_d48fa...</td>\n      <td>2</td>\n      <td>0.370242</td>\n      <td>0.291522</td>\n      <td>157.292857</td>\n      <td>Lang</td>\n      <td>Heddle</td>\n    </tr>\n    <tr>\n      <th>39</th>\n      <td>343b1206ff2a24dc1285fb971a5fb2826ffdaea6_73721...</td>\n      <td>2</td>\n      <td>0.356401</td>\n      <td>0.275952</td>\n      <td>157.505312</td>\n      <td>Lang</td>\n      <td>Heddle</td>\n    </tr>\n    <tr>\n      <th>40</th>\n      <td>d48fae2ad7cf74134a0c788d91b6668197655a89_d25f7...</td>\n      <td>2</td>\n      <td>0.384615</td>\n      <td>0.282051</td>\n      <td>14.844744</td>\n      <td>Lang</td>\n      <td>Heddle</td>\n    </tr>\n    <tr>\n      <th>41</th>\n      <td>b4255e6d071dc8d48bfc51037cecb29097b9a49d_e3165...</td>\n      <td>2</td>\n      <td>0.400211</td>\n      <td>0.377143</td>\n      <td>113666.606414</td>\n      <td>Lang</td>\n      <td>Heddle</td>\n    </tr>\n    <tr>\n      <th>42</th>\n      <td>b4255e6d071dc8d48bfc51037cecb29097b9a49d_f01f5...</td>\n      <td>3</td>\n      <td>0.407075</td>\n      <td>0.384270</td>\n      <td>113789.900767</td>\n      <td>Lang</td>\n      <td>Heddle</td>\n    </tr>\n  </tbody>\n</table>\n</div>"
     },
     "execution_count": 17,
     "metadata": {},
     "output_type": "execute_result"
    }
   ],
   "source": [
    "import pandas as pd\n",
    "\n",
    "COLUMN_NAMES = ['Datapoint', 'Concepts', 'Accuracy', 'Overlap', 'Time']\n",
    "\n",
    "df = pd.DataFrame(data=[], columns=COLUMN_NAMES)\n",
    "temp_df = pd.read_csv(\"wl_all_2_results_raw.csv\", names=COLUMN_NAMES)\n",
    "\n",
    "project = \"Lang\"\n",
    "method = \"Heddle\"\n",
    "\n",
    "temp_df['Project'] = pd.Series([project]*len(temp_df.index))\n",
    "temp_df['Method'] = pd.Series([method]*len(temp_df.index))\n",
    "\n",
    "df = df.append(temp_df, sort=False)\n",
    "\n",
    "df = df[df.Accuracy.notna()]\n",
    "# Sadly we have too few examples of succesful 4-commit-tangles for results\n",
    "# to be statistically meaningful (len(df[df.Concepts == 4]) == 10)\n",
    "df = df[df.Concepts < 4]\n",
    "\n",
    "# This avoid a div by 0 later, but this also means we have to manually set the ylim in plots\n",
    "df[\"Time\"] = df.apply(lambda row: row[\"Time\"] if row[\"Time\"] > 0 else row[\"Time\"] + 1e-31,\n",
    "                      axis=1)\n",
    "df"
   ]
  },
  {
   "cell_type": "code",
   "execution_count": 15,
   "outputs": [
    {
     "name": "stderr",
     "output_type": "stream",
     "text": [
      "/var/folders/95/72xs2mfn5tv8sgfyd51fcnnr0000gn/T/ipykernel_39646/551725955.py:1: FutureWarning: The default value of numeric_only in DataFrameGroupBy.median is deprecated. In a future version, numeric_only will default to False. Either specify numeric_only or select only columns which should be valid for the function.\n",
      "  df.groupby(['Project', 'Concepts']).median()\n"
     ]
    },
    {
     "data": {
      "text/plain": "                  Accuracy   Overlap        Time\nProject Concepts                                \nLang    1         0.605697  0.476744    8.780415\n        2         0.449167  0.314794   41.735858\n        3         0.442308  0.328125  149.150950",
      "text/html": "<div>\n<style scoped>\n    .dataframe tbody tr th:only-of-type {\n        vertical-align: middle;\n    }\n\n    .dataframe tbody tr th {\n        vertical-align: top;\n    }\n\n    .dataframe thead th {\n        text-align: right;\n    }\n</style>\n<table border=\"1\" class=\"dataframe\">\n  <thead>\n    <tr style=\"text-align: right;\">\n      <th></th>\n      <th></th>\n      <th>Accuracy</th>\n      <th>Overlap</th>\n      <th>Time</th>\n    </tr>\n    <tr>\n      <th>Project</th>\n      <th>Concepts</th>\n      <th></th>\n      <th></th>\n      <th></th>\n    </tr>\n  </thead>\n  <tbody>\n    <tr>\n      <th rowspan=\"3\" valign=\"top\">Lang</th>\n      <th>1</th>\n      <td>0.605697</td>\n      <td>0.476744</td>\n      <td>8.780415</td>\n    </tr>\n    <tr>\n      <th>2</th>\n      <td>0.449167</td>\n      <td>0.314794</td>\n      <td>41.735858</td>\n    </tr>\n    <tr>\n      <th>3</th>\n      <td>0.442308</td>\n      <td>0.328125</td>\n      <td>149.150950</td>\n    </tr>\n  </tbody>\n</table>\n</div>"
     },
     "execution_count": 15,
     "metadata": {},
     "output_type": "execute_result"
    }
   ],
   "source": [
    "df.groupby(['Project', 'Concepts']).median()"
   ],
   "metadata": {
    "collapsed": false,
    "pycharm": {
     "name": "#%%\n"
    }
   }
  },
  {
   "cell_type": "code",
   "execution_count": 18,
   "outputs": [
    {
     "name": "stderr",
     "output_type": "stream",
     "text": [
      "/var/folders/95/72xs2mfn5tv8sgfyd51fcnnr0000gn/T/ipykernel_39646/2466251882.py:6: FutureWarning: The frame.append method is deprecated and will be removed from pandas in a future version. Use pandas.concat instead.\n",
      "  results_df = results_df.append(temp_df, ignore_index=True, sort=False)\n",
      "/var/folders/95/72xs2mfn5tv8sgfyd51fcnnr0000gn/T/ipykernel_39646/2466251882.py:11: FutureWarning: The frame.append method is deprecated and will be removed from pandas in a future version. Use pandas.concat instead.\n",
      "  results_df = results_df.append(temp_df, ignore_index=True, sort=False)\n",
      "/var/folders/95/72xs2mfn5tv8sgfyd51fcnnr0000gn/T/ipykernel_39646/2466251882.py:13: FutureWarning: The default value of numeric_only in DataFrameGroupBy.median is deprecated. In a future version, numeric_only will default to False. Either specify numeric_only or select only columns which should be valid for the function.\n",
      "  results_df.groupby([\"Method\", \"Project\", \"Concepts\"]).median()\n"
     ]
    },
    {
     "data": {
      "text/plain": "                         Accuracy        Time\nMethod Project Concepts                      \nHeddle Lang    -1        0.442308   48.374516\n                2        0.449167   41.735858\n                3        0.442308  149.150950\n       Overall -1        0.442308   48.374516\n                2        0.449167   41.735858\n                3        0.442308  149.150950",
      "text/html": "<div>\n<style scoped>\n    .dataframe tbody tr th:only-of-type {\n        vertical-align: middle;\n    }\n\n    .dataframe tbody tr th {\n        vertical-align: top;\n    }\n\n    .dataframe thead th {\n        text-align: right;\n    }\n</style>\n<table border=\"1\" class=\"dataframe\">\n  <thead>\n    <tr style=\"text-align: right;\">\n      <th></th>\n      <th></th>\n      <th></th>\n      <th>Accuracy</th>\n      <th>Time</th>\n    </tr>\n    <tr>\n      <th>Method</th>\n      <th>Project</th>\n      <th>Concepts</th>\n      <th></th>\n      <th></th>\n    </tr>\n  </thead>\n  <tbody>\n    <tr>\n      <th rowspan=\"6\" valign=\"top\">Heddle</th>\n      <th rowspan=\"3\" valign=\"top\">Lang</th>\n      <th>-1</th>\n      <td>0.442308</td>\n      <td>48.374516</td>\n    </tr>\n    <tr>\n      <th>2</th>\n      <td>0.449167</td>\n      <td>41.735858</td>\n    </tr>\n    <tr>\n      <th>3</th>\n      <td>0.442308</td>\n      <td>149.150950</td>\n    </tr>\n    <tr>\n      <th rowspan=\"3\" valign=\"top\">Overall</th>\n      <th>-1</th>\n      <td>0.442308</td>\n      <td>48.374516</td>\n    </tr>\n    <tr>\n      <th>2</th>\n      <td>0.449167</td>\n      <td>41.735858</td>\n    </tr>\n    <tr>\n      <th>3</th>\n      <td>0.442308</td>\n      <td>149.150950</td>\n    </tr>\n  </tbody>\n</table>\n</div>"
     },
     "execution_count": 18,
     "metadata": {},
     "output_type": "execute_result"
    }
   ],
   "source": [
    "results_df = df[df.Concepts > 1].drop([\"Overlap\"],axis=1).copy()\n",
    "\n",
    "temp_df = results_df[results_df.Method == method].drop([\"Project\"], axis = 1)\n",
    "temp_df.index = range(len(temp_df.index))\n",
    "temp_df['Project'] = pd.Series([\"Overall\"]*len(temp_df.index), index=temp_df.index)\n",
    "results_df = results_df.append(temp_df, ignore_index=True, sort=False)\n",
    "\n",
    "temp_df = results_df[results_df.Method == method].drop([\"Concepts\"], axis = 1)\n",
    "temp_df.index = range(len(temp_df.index))\n",
    "temp_df['Concepts'] = pd.Series([-1]*len(temp_df.index))\n",
    "results_df = results_df.append(temp_df, ignore_index=True, sort=False)\n",
    "\n",
    "results_df.groupby([\"Method\", \"Project\", \"Concepts\"]).median()"
   ],
   "metadata": {
    "collapsed": false,
    "pycharm": {
     "name": "#%%\n"
    }
   }
  },
  {
   "cell_type": "code",
   "execution_count": 16,
   "outputs": [],
   "source": [],
   "metadata": {
    "collapsed": false,
    "pycharm": {
     "name": "#%%\n"
    }
   }
  }
 ],
 "metadata": {
  "kernelspec": {
   "display_name": "Python 3",
   "language": "python",
   "name": "python3"
  },
  "language_info": {
   "codemirror_mode": {
    "name": "ipython",
    "version": 2
   },
   "file_extension": ".py",
   "mimetype": "text/x-python",
   "name": "python",
   "nbconvert_exporter": "python",
   "pygments_lexer": "ipython2",
   "version": "2.7.6"
  }
 },
 "nbformat": 4,
 "nbformat_minor": 0
}