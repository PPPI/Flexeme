{
 "cells": [
  {
   "cell_type": "code",
   "execution_count": 12,
   "metadata": {
    "collapsed": true
   },
   "outputs": [],
   "source": [
    "import pandas as pd\n",
    "import seaborn as sns\n",
    "from scipy import stats\n",
    "import numpy as np"
   ]
  },
  {
   "cell_type": "code",
   "execution_count": 112,
   "outputs": [
    {
     "data": {
      "text/plain": "        project                                          datapoint  n_commits  \\\n0  commons-lang  10496897d06a68cd9555ae5368bd1889b7dfa862_e8054...          2   \n1  commons-lang  10496897d06a68cd9555ae5368bd1889b7dfa862_b2f17...          3   \n2  commons-lang  10496897d06a68cd9555ae5368bd1889b7dfa862_b2bba...          4   \n3  commons-lang  b2f1757bf9ec1632a940b9a2e65a1a022ba54af8_b2bba...          2   \n4  commons-lang  7f89bd4850b7a5b0dd2a10d2f2daa62805de5bca_7e512...          2   \n\n   n_files  n_files_updated_i  shared_files  \n0        3                  2             0  \n1       24                 22             1  \n2       29                  7             3  \n3       19                  7             2  \n4        3                  2             0  ",
      "text/html": "<div>\n<style scoped>\n    .dataframe tbody tr th:only-of-type {\n        vertical-align: middle;\n    }\n\n    .dataframe tbody tr th {\n        vertical-align: top;\n    }\n\n    .dataframe thead th {\n        text-align: right;\n    }\n</style>\n<table border=\"1\" class=\"dataframe\">\n  <thead>\n    <tr style=\"text-align: right;\">\n      <th></th>\n      <th>project</th>\n      <th>datapoint</th>\n      <th>n_commits</th>\n      <th>n_files</th>\n      <th>n_files_updated_i</th>\n      <th>shared_files</th>\n    </tr>\n  </thead>\n  <tbody>\n    <tr>\n      <th>0</th>\n      <td>commons-lang</td>\n      <td>10496897d06a68cd9555ae5368bd1889b7dfa862_e8054...</td>\n      <td>2</td>\n      <td>3</td>\n      <td>2</td>\n      <td>0</td>\n    </tr>\n    <tr>\n      <th>1</th>\n      <td>commons-lang</td>\n      <td>10496897d06a68cd9555ae5368bd1889b7dfa862_b2f17...</td>\n      <td>3</td>\n      <td>24</td>\n      <td>22</td>\n      <td>1</td>\n    </tr>\n    <tr>\n      <th>2</th>\n      <td>commons-lang</td>\n      <td>10496897d06a68cd9555ae5368bd1889b7dfa862_b2bba...</td>\n      <td>4</td>\n      <td>29</td>\n      <td>7</td>\n      <td>3</td>\n    </tr>\n    <tr>\n      <th>3</th>\n      <td>commons-lang</td>\n      <td>b2f1757bf9ec1632a940b9a2e65a1a022ba54af8_b2bba...</td>\n      <td>2</td>\n      <td>19</td>\n      <td>7</td>\n      <td>2</td>\n    </tr>\n    <tr>\n      <th>4</th>\n      <td>commons-lang</td>\n      <td>7f89bd4850b7a5b0dd2a10d2f2daa62805de5bca_7e512...</td>\n      <td>2</td>\n      <td>3</td>\n      <td>2</td>\n      <td>0</td>\n    </tr>\n  </tbody>\n</table>\n</div>"
     },
     "execution_count": 112,
     "metadata": {},
     "output_type": "execute_result"
    }
   ],
   "source": [
    "df = pd.read_csv(\"commons-lang-stats.csv\")\n",
    "df.head()"
   ],
   "metadata": {
    "collapsed": false,
    "pycharm": {
     "name": "#%%\n"
    }
   }
  },
  {
   "cell_type": "markdown",
   "source": [
    "# Tangled Files in Synthetic Commits"
   ],
   "metadata": {
    "collapsed": false
   }
  },
  {
   "cell_type": "code",
   "execution_count": 123,
   "outputs": [],
   "source": [
    "pd.options.display.float_format = '{:.2%}'.format"
   ],
   "metadata": {
    "collapsed": false,
    "pycharm": {
     "name": "#%%\n"
    }
   }
  },
  {
   "cell_type": "code",
   "execution_count": 124,
   "outputs": [
    {
     "data": {
      "text/plain": "0     41.96%\n1     28.70%\n2     15.04%\n3      6.71%\n4      2.56%\n5      1.92%\n6      0.64%\n7      0.49%\n10     0.44%\n8      0.25%\n17     0.20%\n14     0.20%\n13     0.15%\n23     0.10%\n258    0.10%\n9      0.10%\n11     0.10%\n16     0.05%\n188    0.05%\n29     0.05%\n19     0.05%\n20     0.05%\n33     0.05%\n28     0.05%\nName: shared_files, dtype: float64"
     },
     "execution_count": 124,
     "metadata": {},
     "output_type": "execute_result"
    }
   ],
   "source": [
    "df.drop(['project', 'datapoint', 'n_commits', 'n_files', 'n_files_updated_i'], axis=1)['shared_files'].value_counts(normalize=True)"
   ],
   "metadata": {
    "collapsed": false,
    "pycharm": {
     "name": "#%%\n"
    }
   }
  },
  {
   "cell_type": "code",
   "execution_count": 125,
   "outputs": [
    {
     "data": {
      "text/plain": "n_commits  shared_files\n2          0              62.71%\n           1              28.36%\n           2               5.88%\n           3               1.58%\n           4               0.56%\n           5               0.34%\n           28              0.11%\n           10              0.11%\n           8               0.11%\n           7               0.11%\n           6               0.11%\n3          0              33.85%\n           1              30.91%\n           2              20.40%\n           3               7.57%\n           4               2.01%\n           5               1.70%\n           10              0.62%\n           6               0.46%\n           8               0.46%\n           14              0.31%\n           13              0.31%\n           258             0.15%\n           188             0.15%\n           33              0.15%\n           23              0.15%\n           19              0.15%\n           16              0.15%\n           9               0.15%\n           7               0.15%\n           17              0.15%\n4          1              26.41%\n           2              24.40%\n           0              15.52%\n           3              14.72%\n           4               6.85%\n           5               5.04%\n           6               1.81%\n           7               1.61%\n           10              0.81%\n           17              0.60%\n           14              0.40%\n           11              0.40%\n           9               0.20%\n           8               0.20%\n           13              0.20%\n           29              0.20%\n           23              0.20%\n           20              0.20%\n           258             0.20%\ndtype: float64"
     },
     "execution_count": 125,
     "metadata": {},
     "output_type": "execute_result"
    }
   ],
   "source": [
    "df.drop(['project', 'datapoint', 'n_files', 'n_files_updated_i'], axis=1).groupby('n_commits', sort=True)\\\n",
    "    .value_counts(normalize=True)"
   ],
   "metadata": {
    "collapsed": false,
    "pycharm": {
     "name": "#%%\n"
    }
   }
  },
  {
   "cell_type": "code",
   "execution_count": 58,
   "outputs": [],
   "source": [
    "q = df[\"shared_files\"].quantile(0.99)\n",
    "df_no_out = df[df[\"shared_files\"] < q]"
   ],
   "metadata": {
    "collapsed": false,
    "pycharm": {
     "name": "#%%\n"
    }
   }
  },
  {
   "cell_type": "code",
   "execution_count": 59,
   "outputs": [
    {
     "data": {
      "text/plain": "<Axes: xlabel='shared_files', ylabel='Count'>"
     },
     "execution_count": 59,
     "metadata": {},
     "output_type": "execute_result"
    },
    {
     "data": {
      "text/plain": "<Figure size 640x480 with 1 Axes>",
      "image/png": "[encoded data removed]"
     },
     "metadata": {},
     "output_type": "display_data"
    }
   ],
   "source": [
    "sns.histplot(df_no_out, x='shared_files', hue='n_commits', multiple=\"dodge\")"
   ],
   "metadata": {
    "collapsed": false,
    "pycharm": {
     "name": "#%%\n"
    }
   }
  },
  {
   "cell_type": "code",
   "execution_count": 126,
   "outputs": [
    {
     "data": {
      "text/plain": "n_commits\n2           43.64%\n3           31.90%\n4           24.46%\ndtype: float64"
     },
     "execution_count": 126,
     "metadata": {},
     "output_type": "execute_result"
    }
   ],
   "source": [
    "df.drop(['project', 'datapoint', 'n_files', 'n_files_updated_i', 'shared_files'], axis=1).value_counts\\\n",
    "    (normalize=True)"
   ],
   "metadata": {
    "collapsed": false,
    "pycharm": {
     "name": "#%%\n"
    }
   }
  },
  {
   "cell_type": "code",
   "execution_count": null,
   "outputs": [],
   "source": [],
   "metadata": {
    "collapsed": false,
    "pycharm": {
     "name": "#%%\n"
    }
   }
  }
 ],
 "metadata": {
  "kernelspec": {
   "display_name": "Python 3",
   "language": "python",
   "name": "python3"
  },
  "language_info": {
   "codemirror_mode": {
    "name": "ipython",
    "version": 2
   },
   "file_extension": ".py",
   "mimetype": "text/x-python",
   "name": "python",
   "nbconvert_exporter": "python",
   "pygments_lexer": "ipython2",
   "version": "2.7.6"
  }
 },
 "nbformat": 4,
 "nbformat_minor": 0
}